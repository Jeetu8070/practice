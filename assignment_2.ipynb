{
  "nbformat": 4,
  "nbformat_minor": 0,
  "metadata": {
    "colab": {
      "name": "assignment 2.ipynb",
      "provenance": [],
      "authorship_tag": "ABX9TyP2rrC1+Yl4Eoq2uoPf/FNz",
      "include_colab_link": true
    },
    "kernelspec": {
      "name": "python3",
      "display_name": "Python 3"
    }
  },
  "cells": [
    {
      "cell_type": "markdown",
      "metadata": {
        "id": "view-in-github",
        "colab_type": "text"
      },
      "source": [
        "<a href=\"https://colab.research.google.com/github/Jeetu8070/practice/blob/master/assignment_2.ipynb\" target=\"_parent\"><img src=\"https://colab.research.google.com/assets/colab-badge.svg\" alt=\"Open In Colab\"/></a>"
      ]
    },
    {
      "cell_type": "code",
      "metadata": {
        "id": "E2CtFAsHEs6W",
        "colab_type": "code",
        "colab": {
          "base_uri": "https://localhost:8080/",
          "height": 87
        },
        "outputId": "84b4b945-13e8-4c00-9493-f24cdd05b84a"
      },
      "source": [
        "str1 = input(\"Enter first string : \")\n",
        "str2 = input(\"Enter second string : \")\n",
        "if(sorted(str1) == sorted(str2)):\n",
        "    print(\"Strings are anagrams\")\n",
        "else:\n",
        "    print(\"Strings are not anagrams\")"
      ],
      "execution_count": 1,
      "outputs": [
        {
          "output_type": "stream",
          "text": [
            "Enter first string : as\n",
            "Enter second string : as\n",
            "Strings are anagrams\n"
          ],
          "name": "stdout"
        }
      ]
    }
  ]
}