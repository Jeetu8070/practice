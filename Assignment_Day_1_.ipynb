{
  "nbformat": 4,
  "nbformat_minor": 0,
  "metadata": {
    "colab": {
      "name": "Assignment Day 1 .ipynb",
      "provenance": [],
      "authorship_tag": "ABX9TyN/seFDR/UVT1VjZH4VrCs9",
      "include_colab_link": true
    },
    "kernelspec": {
      "name": "python3",
      "display_name": "Python 3"
    }
  },
  "cells": [
    {
      "cell_type": "markdown",
      "metadata": {
        "id": "view-in-github",
        "colab_type": "text"
      },
      "source": [
        "<a href=\"https://colab.research.google.com/github/Jeetu8070/practice/blob/master/Assignment_Day_1_.ipynb\" target=\"_parent\"><img src=\"https://colab.research.google.com/assets/colab-badge.svg\" alt=\"Open In Colab\"/></a>"
      ]
    },
    {
      "cell_type": "markdown",
      "metadata": {
        "id": "GtWtOIWVLoXh",
        "colab_type": "text"
      },
      "source": [
        ""
      ]
    },
    {
      "cell_type": "code",
      "metadata": {
        "id": "CNkyzG3_Lusu",
        "colab_type": "code",
        "colab": {}
      },
      "source": [
        "#Ques 1 \n",
        "#list of the first 15 even numbers that are not divisible by 6"
      ],
      "execution_count": 0,
      "outputs": []
    },
    {
      "cell_type": "code",
      "metadata": {
        "id": "01o8AOE6Lvhf",
        "colab_type": "code",
        "colab": {
          "base_uri": "https://localhost:8080/",
          "height": 54
        },
        "outputId": "a090bf46-2a53-48ae-d811-b93cebb1499f"
      },
      "source": [
        "l = []\n",
        "x = 0\n",
        "count = 0\n",
        "while True:\n",
        "  if x % 6 != 0 and x % 2 == 0:\n",
        "    count = count + 1\n",
        "    l.append(x)\n",
        "  if count == 15:\n",
        "    break\n",
        "  x = x + 1\n",
        "\n",
        "print(l)"
      ],
      "execution_count": 1,
      "outputs": [
        {
          "output_type": "stream",
          "text": [
            "[2, 4, 8, 10, 14, 16, 20, 22, 26, 28, 32, 34, 38, 40, 44]\n"
          ],
          "name": "stdout"
        }
      ]
    },
    {
      "cell_type": "code",
      "metadata": {
        "id": "FuJUJyoeL3bZ",
        "colab_type": "code",
        "colab": {}
      },
      "source": [
        "#Ques 2 Write a function to Check whether given two string is anagram or not"
      ],
      "execution_count": 0,
      "outputs": []
    },
    {
      "cell_type": "code",
      "metadata": {
        "id": "zwwVKGogL4Th",
        "colab_type": "code",
        "colab": {
          "base_uri": "https://localhost:8080/",
          "height": 87
        },
        "outputId": "f78e027f-ebe3-4b90-9f66-de4d0f27928b"
      },
      "source": [
        "def anagram(str1, str2):\n",
        "  if(sorted(str1) == sorted(str2)):\n",
        "    print(\"Strings are anagrams\")\n",
        "  else:\n",
        "    print(\"Strings are not anagrams\")\n",
        "\n",
        "str1 = input(\"Enter first string : \")\n",
        "str2 = input(\"Enter second string : \")\n",
        "\n",
        "anagram(str1, str2)"
      ],
      "execution_count": 3,
      "outputs": [
        {
          "output_type": "stream",
          "text": [
            "Enter first string : jatin bachchani\n",
            "Enter second string : jatin bachchani\n",
            "Strings are anagrams\n"
          ],
          "name": "stdout"
        }
      ]
    },
    {
      "cell_type": "code",
      "metadata": {
        "id": "ujT8u1spMC8U",
        "colab_type": "code",
        "colab": {}
      },
      "source": [
        "#Ques 3 Define a class which has at least two methods: getString: \n",
        "#to get a string from console input printString: to print the string in upper case. \n",
        "#Also please include simple test function to test the class methods."
      ],
      "execution_count": 0,
      "outputs": []
    },
    {
      "cell_type": "code",
      "metadata": {
        "id": "FmoPi_43MIg-",
        "colab_type": "code",
        "colab": {
          "base_uri": "https://localhost:8080/",
          "height": 71
        },
        "outputId": "4f0fa04c-464c-4c47-b230-f5c1ba4985dd"
      },
      "source": [
        "class myclass():\n",
        "    def get_String(self):\n",
        "        self.str1 = input()\n",
        "\n",
        "    def print_String(self):\n",
        "        print(self.str1.upper())\n",
        "\n",
        "str1 = myclass()\n",
        "str1.get_String()\n",
        "str1.print_String()"
      ],
      "execution_count": 4,
      "outputs": [
        {
          "output_type": "stream",
          "text": [
            "jatin\n",
            "JATIN\n"
          ],
          "name": "stdout"
        }
      ]
    },
    {
      "cell_type": "code",
      "metadata": {
        "id": "AqoqPS1OMN7V",
        "colab_type": "code",
        "colab": {}
      },
      "source": [
        "#FROM JATIN BACHCHANI"
      ],
      "execution_count": 0,
      "outputs": []
    }
  ]
}