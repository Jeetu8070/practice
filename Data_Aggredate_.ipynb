{
  "nbformat": 4,
  "nbformat_minor": 0,
  "metadata": {
    "colab": {
      "name": "Data_Aggredate .ipynb",
      "provenance": [],
      "authorship_tag": "ABX9TyPEVns5ol/aD1m1wedLcWTm",
      "include_colab_link": true
    },
    "kernelspec": {
      "name": "python3",
      "display_name": "Python 3"
    }
  },
  "cells": [
    {
      "cell_type": "markdown",
      "metadata": {
        "id": "view-in-github",
        "colab_type": "text"
      },
      "source": [
        "<a href=\"https://colab.research.google.com/github/Jeetu8070/practice/blob/master/Data_Aggredate_.ipynb\" target=\"_parent\"><img src=\"https://colab.research.google.com/assets/colab-badge.svg\" alt=\"Open In Colab\"/></a>"
      ]
    },
    {
      "cell_type": "code",
      "metadata": {
        "id": "PyVuPsZ1thmx",
        "colab_type": "code",
        "colab": {}
      },
      "source": [
        ""
      ],
      "execution_count": 0,
      "outputs": []
    },
    {
      "cell_type": "markdown",
      "metadata": {
        "id": "uQrYuDcgtjKf",
        "colab_type": "text"
      },
      "source": [
        "How we can perform Data Aggregation on Pandas DataFrame? Give an example.\n",
        "Python is a great language for doing data analysis. Pandas is one of data-centric Python packages and makes importing and analyzing data much easier.\n",
        "Dataframe.aggregate() function is used to apply some aggregation across one or more column. Aggregate using callable, string, dict, or list of string/callables. Most frequently used aggregations are:\n",
        "sum: Return the sum of the values for the requested axis\n",
        "min: Return the minimum of the values for the requested axis\n",
        "max: Return the maximum of the values for the requested axis\n",
        "Syntax: DataFrame.aggregate(func, axis=0, *args, **kwargs)\n",
        "Parameters: func : callable, string, dictionary, or list of string/callables. Function to use for aggregating the data. If a function, must either work when passed a DataFrame or when passed to DataFrame.apply. For a DataFrame, can pass a dict, if the keys are DataFrame column names. axis : (default 0) {0 or ‘index’, 1 or ‘columns’} 0 or ‘index’: apply function to each column. 1 or ‘columns’: apply function to each row.\n",
        "Returns: Aggregated DataFrame"
      ]
    },
    {
      "cell_type": "code",
      "metadata": {
        "id": "wFAzqh1etuoU",
        "colab_type": "code",
        "colab": {
          "base_uri": "https://localhost:8080/",
          "height": 385
        },
        "outputId": "d356d538-8488-484d-ec92-842c23219345"
      },
      "source": [
        "import pandas as pd\n",
        "import numpy as np\n",
        "df = pd.DataFrame([[1, 2, 3],\n",
        "                   [4, 5, 6],\n",
        "                    [7, 8, 9],\n",
        "                   [np.nan, np.nan, np.nan]],\n",
        "                  columns=['A', 'B', 'C'])\n",
        "print(df)\n",
        "# Aggregate these functions over the rows.\n",
        "print(df.agg(['sum', 'min']))\n",
        "# Different aggregations per column.\n",
        "print(df.agg({'A' : ['sum', 'min'], 'B' : ['min', 'max']}))\n",
        "# Aggregate over the columns.\n",
        "print(df.agg(\"mean\", axis=\"columns\"))\n",
        "# Aggregate over the rows.\n",
        "print(df.agg(\"mean\", axis=\"rows\"))"
      ],
      "execution_count": 1,
      "outputs": [
        {
          "output_type": "stream",
          "text": [
            "     A    B    C\n",
            "0  1.0  2.0  3.0\n",
            "1  4.0  5.0  6.0\n",
            "2  7.0  8.0  9.0\n",
            "3  NaN  NaN  NaN\n",
            "        A     B     C\n",
            "sum  12.0  15.0  18.0\n",
            "min   1.0   2.0   3.0\n",
            "        A    B\n",
            "max   NaN  8.0\n",
            "min   1.0  2.0\n",
            "sum  12.0  NaN\n",
            "0    2.0\n",
            "1    5.0\n",
            "2    8.0\n",
            "3    NaN\n",
            "dtype: float64\n",
            "A    4.0\n",
            "B    5.0\n",
            "C    6.0\n",
            "dtype: float64\n"
          ],
          "name": "stdout"
        }
      ]
    }
  ]
}